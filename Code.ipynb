{
 "cells": [
  {
   "cell_type": "code",
   "execution_count": 1,
   "id": "9516bc21-edac-499e-9c0e-e57cbb5dcc57",
   "metadata": {},
   "outputs": [
    {
     "name": "stdout",
     "output_type": "stream",
     "text": [
      "Collecting anytree\n",
      "  Using cached anytree-2.8.0-py2.py3-none-any.whl (41 kB)\n",
      "Requirement already satisfied: six>=1.9.0 in /home/usamaimdad/python_envs/310_default/lib/python3.10/site-packages (from anytree) (1.16.0)\n",
      "Installing collected packages: anytree\n",
      "Successfully installed anytree-2.8.0\n"
     ]
    }
   ],
   "source": [
    "!pip install anytree"
   ]
  },
  {
   "cell_type": "code",
   "execution_count": 2,
   "id": "e00cfedb-807f-4f9f-9ed6-8f50baa4ee28",
   "metadata": {},
   "outputs": [],
   "source": [
    "import numpy as np\n",
    "import pandas as pd\n",
    "\n",
    "from typing import List, Dict\n",
    "from anytree import NodeMixin, RenderTree\n",
    "from anytree.search import find_by_attr, findall_by_attr\n",
    "from math import log2\n",
    "\n",
    "pd.set_option('display.max_columns', 20)"
   ]
  },
  {
   "cell_type": "markdown",
   "id": "c653c075-7569-42be-b5fe-66e903f4c1cd",
   "metadata": {},
   "source": [
    "### Loading Data"
   ]
  },
  {
   "cell_type": "code",
   "execution_count": 3,
   "id": "88809e1c-6d0e-45cd-8786-d940d9dd916b",
   "metadata": {},
   "outputs": [
    {
     "data": {
      "text/html": [
       "<div>\n",
       "<style scoped>\n",
       "    .dataframe tbody tr th:only-of-type {\n",
       "        vertical-align: middle;\n",
       "    }\n",
       "\n",
       "    .dataframe tbody tr th {\n",
       "        vertical-align: top;\n",
       "    }\n",
       "\n",
       "    .dataframe thead th {\n",
       "        text-align: right;\n",
       "    }\n",
       "</style>\n",
       "<table border=\"1\" class=\"dataframe\">\n",
       "  <thead>\n",
       "    <tr style=\"text-align: right;\">\n",
       "      <th></th>\n",
       "      <th>outlook</th>\n",
       "      <th>temp</th>\n",
       "      <th>humidity</th>\n",
       "      <th>windy</th>\n",
       "      <th>play</th>\n",
       "    </tr>\n",
       "  </thead>\n",
       "  <tbody>\n",
       "    <tr>\n",
       "      <th>0</th>\n",
       "      <td>sunny</td>\n",
       "      <td>hot</td>\n",
       "      <td>high</td>\n",
       "      <td>False</td>\n",
       "      <td>no</td>\n",
       "    </tr>\n",
       "    <tr>\n",
       "      <th>1</th>\n",
       "      <td>sunny</td>\n",
       "      <td>hot</td>\n",
       "      <td>high</td>\n",
       "      <td>True</td>\n",
       "      <td>no</td>\n",
       "    </tr>\n",
       "    <tr>\n",
       "      <th>2</th>\n",
       "      <td>overcast</td>\n",
       "      <td>hot</td>\n",
       "      <td>high</td>\n",
       "      <td>False</td>\n",
       "      <td>yes</td>\n",
       "    </tr>\n",
       "    <tr>\n",
       "      <th>3</th>\n",
       "      <td>rainy</td>\n",
       "      <td>mild</td>\n",
       "      <td>high</td>\n",
       "      <td>False</td>\n",
       "      <td>yes</td>\n",
       "    </tr>\n",
       "    <tr>\n",
       "      <th>4</th>\n",
       "      <td>rainy</td>\n",
       "      <td>cool</td>\n",
       "      <td>normal</td>\n",
       "      <td>False</td>\n",
       "      <td>yes</td>\n",
       "    </tr>\n",
       "    <tr>\n",
       "      <th>5</th>\n",
       "      <td>rainy</td>\n",
       "      <td>cool</td>\n",
       "      <td>normal</td>\n",
       "      <td>True</td>\n",
       "      <td>no</td>\n",
       "    </tr>\n",
       "    <tr>\n",
       "      <th>6</th>\n",
       "      <td>overcast</td>\n",
       "      <td>cool</td>\n",
       "      <td>normal</td>\n",
       "      <td>True</td>\n",
       "      <td>yes</td>\n",
       "    </tr>\n",
       "    <tr>\n",
       "      <th>7</th>\n",
       "      <td>sunny</td>\n",
       "      <td>mild</td>\n",
       "      <td>high</td>\n",
       "      <td>False</td>\n",
       "      <td>no</td>\n",
       "    </tr>\n",
       "    <tr>\n",
       "      <th>8</th>\n",
       "      <td>sunny</td>\n",
       "      <td>cool</td>\n",
       "      <td>normal</td>\n",
       "      <td>False</td>\n",
       "      <td>yes</td>\n",
       "    </tr>\n",
       "    <tr>\n",
       "      <th>9</th>\n",
       "      <td>rainy</td>\n",
       "      <td>mild</td>\n",
       "      <td>normal</td>\n",
       "      <td>False</td>\n",
       "      <td>yes</td>\n",
       "    </tr>\n",
       "    <tr>\n",
       "      <th>10</th>\n",
       "      <td>sunny</td>\n",
       "      <td>mild</td>\n",
       "      <td>normal</td>\n",
       "      <td>True</td>\n",
       "      <td>yes</td>\n",
       "    </tr>\n",
       "    <tr>\n",
       "      <th>11</th>\n",
       "      <td>overcast</td>\n",
       "      <td>mild</td>\n",
       "      <td>high</td>\n",
       "      <td>True</td>\n",
       "      <td>yes</td>\n",
       "    </tr>\n",
       "    <tr>\n",
       "      <th>12</th>\n",
       "      <td>overcast</td>\n",
       "      <td>hot</td>\n",
       "      <td>normal</td>\n",
       "      <td>False</td>\n",
       "      <td>yes</td>\n",
       "    </tr>\n",
       "    <tr>\n",
       "      <th>13</th>\n",
       "      <td>rainy</td>\n",
       "      <td>mild</td>\n",
       "      <td>high</td>\n",
       "      <td>True</td>\n",
       "      <td>no</td>\n",
       "    </tr>\n",
       "  </tbody>\n",
       "</table>\n",
       "</div>"
      ],
      "text/plain": [
       "     outlook  temp humidity  windy play\n",
       "0      sunny   hot     high  False   no\n",
       "1      sunny   hot     high   True   no\n",
       "2   overcast   hot     high  False  yes\n",
       "3      rainy  mild     high  False  yes\n",
       "4      rainy  cool   normal  False  yes\n",
       "5      rainy  cool   normal   True   no\n",
       "6   overcast  cool   normal   True  yes\n",
       "7      sunny  mild     high  False   no\n",
       "8      sunny  cool   normal  False  yes\n",
       "9      rainy  mild   normal  False  yes\n",
       "10     sunny  mild   normal   True  yes\n",
       "11  overcast  mild     high   True  yes\n",
       "12  overcast   hot   normal  False  yes\n",
       "13     rainy  mild     high   True   no"
      ]
     },
     "execution_count": 3,
     "metadata": {},
     "output_type": "execute_result"
    }
   ],
   "source": [
    "data  = pd.read_csv(\"data.csv\")\n",
    "data"
   ]
  },
  {
   "cell_type": "markdown",
   "id": "4563ee27-c468-43f9-9d8d-e80bfad7637b",
   "metadata": {},
   "source": [
    "### Implementing Decision Tree "
   ]
  },
  {
   "cell_type": "code",
   "execution_count": 4,
   "id": "8d09b8a9",
   "metadata": {},
   "outputs": [],
   "source": [
    "class DecTreeNode(NodeMixin):\n",
    "    def __init__(self, name: str, attribute: str, parent = None):\n",
    "        super(DecTreeNode, self).__init__()\n",
    "        self.name = name\n",
    "        self.attribute = attribute\n",
    "        self.parent = parent\n",
    "        self.attr_value = \"{0}={1}\".format(attribute, name)\n",
    "    \n",
    "    def equals(self,val):\n",
    "        return (self.attr_value == val)\n",
    "    \n",
    "    def __str__(self) -> str:\n",
    "        return self.attr_value"
   ]
  },
  {
   "cell_type": "code",
   "execution_count": 5,
   "id": "5aa1e4ff-3f2c-4cad-8790-e142f68ed0ff",
   "metadata": {},
   "outputs": [],
   "source": [
    "class DecTree():\n",
    "    \n",
    "    def __init__(self, data: pd.DataFrame, target_attribute: str):\n",
    "        self.data = data\n",
    "        self.target_attr = target_attribute\n",
    "        self.target_attr_vals = data[target_attribute].unique()\n",
    "        self.root_node = None\n",
    "        self.default_pred = self.cal_default_pred()\n",
    "    \n",
    "    # Method to identify what should be the default prediction\n",
    "    def cal_default_pred(self):\n",
    "        # Count values in the target attribute\n",
    "        t = self.data[self.target_attr].value_counts()\n",
    "        # Default value would be that which is more frequent\n",
    "        return t[t == t.max()].index[0]\n",
    "        \n",
    "    def pmf_target(self, df: pd.DataFrame) -> Dict[str, float]:\n",
    "        # Add your code\n",
    "        # To find the PMF for the target field divide value count by total count\n",
    "        pmf = (df[self.target_attr].value_counts()/df[self.target_attr].count()).to_dict()\n",
    "        return pmf\n",
    "    \n",
    "    def pmf(self,df:pd.DataFrame) -> Dict[str,float]:\n",
    "        # df is of the following type\n",
    "        #                     attr_val1\n",
    "        # target_attr_val1      5      \n",
    "        # target_attr_val2      3      \n",
    "        \n",
    "        # To find the pmf divide each value in the column by total sum \n",
    "        pmf = (df/df.sum()).to_dict()\n",
    "        return pmf\n",
    "    \n",
    "    # find count of each value with respect to the target attribute value\n",
    "    # It returns the following form\n",
    "         \n",
    "        #                     attr_val1   attr_val2\n",
    "        # target_attr_val1      5            10\n",
    "        # target_attr_val2      3            20 \n",
    "    def attr_target_count(self, df: pd.DataFrame, attribute: str) -> pd.DataFrame:\n",
    "        # get unique values from the attribute\n",
    "        x_uniques = df[attribute].unique()\n",
    "                \n",
    "        temp_data = {}\n",
    "        for x_u in x_uniques:    \n",
    "            t_data = {}\n",
    "            # select all those values from target attribute where attribute value is equal to x_u\n",
    "            tdf = df[self.target_attr].loc[df[attribute] == x_u]\n",
    "            # Iterate over target values\n",
    "            for y_u in self.target_attr_vals:\n",
    "                # count y_u appear in the previously created df\n",
    "                t_data[y_u] = (tdf == y_u).sum()\n",
    "            # this dictionary is to save next value of the attribute\n",
    "            temp_data[x_u] = t_data\n",
    "        # convert dictionary to data frame\n",
    "        att_val_count = pd.DataFrame(temp_data)\n",
    "        # remove unnecessary variables\n",
    "        del temp_data, t_data, x_uniques\n",
    "        return att_val_count\n",
    "    \n",
    "    def entropy(self, pmf: Dict[str, float]) -> float:\n",
    "        # Add your code\n",
    "        entr = 0\n",
    "        # iterate over values of pmf\n",
    "        for k,v in pmf.items():\n",
    "            # if there is an error calculating the log then assign 0\n",
    "            try:\n",
    "                log_entr = log2(v)\n",
    "            except:\n",
    "                log_entr = 0\n",
    "            # multiply log2 of pmf with real pmf and add the result to entr variable\n",
    "            entr += v * log_entr\n",
    "        # multiply minus with the entr value\n",
    "        entr *= -1\n",
    "        return entr\n",
    "    \n",
    "    # Calculate entropy for the target attribute\n",
    "    def cal_entropy_df(self, df: pd.DataFrame) -> float:\n",
    "        # find the pmf\n",
    "        pmf = self.pmf_target(df)\n",
    "        entr = self.entropy(pmf)\n",
    "        return entr\n",
    "    \n",
    "    # Expected information retuns weighted sum of the entropies of values of an attribute\n",
    "    def expected_information(self,df:pd.DataFrame, attribute: str) -> float:\n",
    "        # find count of each value with respect to the target attribute value\n",
    "        att_val_count = self.attr_target_count(df,attribute)\n",
    "\n",
    "        # Add values column wise and then divide by the total sum to find the weight for every entropy\n",
    "        entr_ratios = (att_val_count.sum(axis=0)/att_val_count.sum().sum()).to_dict()\n",
    "        information_gain = 0\n",
    "        for col in att_val_count.columns:\n",
    "            # Find PMF for each attribute value\n",
    "            pmf = self.pmf(att_val_count[col])\n",
    "            # find the entropy for each pmf\n",
    "            entr = self.entropy(pmf)\n",
    "            # Multiply entropy by its weight adn add to the gain\n",
    "            information_gain += entr_ratios[col] * entr\n",
    "        # return the gain\n",
    "        return information_gain\n",
    "        \n",
    "    # Find the gain for the attribute\n",
    "    def info_gain_attribute(self, df: pd.DataFrame, attribute: str) -> float:\n",
    "        # Add your code\n",
    "        # To calculate the gain subtract the expected information from target attribute entropy \n",
    "        information_gain = self.cal_entropy_df(df) - self.expected_information(df,attribute)\n",
    "        return information_gain\n",
    "    \n",
    "    # Find attribute with maximum gain\n",
    "    def max_info_gain_attribute(self, df: pd.DataFrame, attributes: List[int]) -> str:\n",
    "        # Assign - infinity as max gain\n",
    "        max_gain = float('-inf')\n",
    "        max_attr = None\n",
    "        # Add your code\n",
    "        # Calculate gain for each attribute and check if it is greater than previous maximum gain\n",
    "        # if yes then keep it as maximum gain and its attribute as maximum attribute\n",
    "        for attr in attributes:\n",
    "            temp = self.info_gain_attribute(df,attr)\n",
    "            if temp > max_gain:\n",
    "                max_gain = temp\n",
    "                max_attr = attr\n",
    "        return max_attr\n",
    "    \n",
    "    # To generate the tree recursively\n",
    "    def build_tree_infgain(self, df: pd.DataFrame, attr_list: List[str], start_node: DecTreeNode):\n",
    "        # Add your code\n",
    "        # Use return to end current recursive call when any stopping condition is reached\n",
    "        # Get the attribute with max gain\n",
    "        next_node_attr = self.max_info_gain_attribute(df,attr_list)\n",
    "        # get unique values from the next_node_arr attribute\n",
    "        nodes_names = df[next_node_attr].unique()\n",
    "        \n",
    "        # Iterate over unique values from next_node_arr attribute\n",
    "        for node_name in nodes_names:\n",
    "            # Create a node with node_name,next_node_attr, and the parent node which is in start_node\n",
    "            next_node = DecTreeNode(node_name,next_node_attr,start_node)\n",
    "            # Get sub dataframe by selecting only those records where attribute value is node_name\n",
    "            temp_df = df.loc[df[next_node_attr] == node_name]\n",
    "            # Remove the max gain attribute from the list\n",
    "            temp_attr_list = attr_list.copy()\n",
    "            temp_attr_list.remove(next_node_attr)\n",
    "            \n",
    "            # If target attribute in dataframe is of one value then create one more node for it and stop expanding it\n",
    "            if temp_df[self.target_attr].unique().size == 1:\n",
    "                # Create leaf node\n",
    "                leaf_node = DecTreeNode(temp_df[self.target_attr].unique()[0],'class',next_node)\n",
    "                # Skip next lines of the code and go for the next iteration\n",
    "                continue\n",
    "            # if attribute list is empty then stop recursion\n",
    "            if len(temp_attr_list) < 1:\n",
    "                return\n",
    "            \n",
    "            # Recursion call\n",
    "            self.build_tree_infgain(temp_df,temp_attr_list,next_node)\n",
    "            \n",
    "        return\n",
    "    \n",
    "    def generate_tree(self):\n",
    "        attributes = self.data.columns.to_list()\n",
    "        attributes.remove(self.target_attr)\n",
    "        \n",
    "        start_node = DecTreeNode(\"start\", \"start\")\n",
    "        self.build_tree_infgain(self.data, attributes, start_node)\n",
    "        \n",
    "        self.root_node = start_node\n",
    "    \n",
    "    def print_tree(self):\n",
    "        for pre, _, node in RenderTree(self.root_node):\n",
    "            print(f\"{pre} {node.attribute}={node.name}\")\n",
    "    \n",
    "    # prediction for one row\n",
    "    def predict_one(self,d_row):\n",
    "        # assign root node to a temporary variable temp_node\n",
    "        temp_node = self.root_node\n",
    "        \n",
    "        # keep running the loop until the leaf node is reached which we can identify by checking its attributes\n",
    "        while not temp_node.attribute == 'class':\n",
    "            # Find the children for the nodes\n",
    "            nodes = temp_node.children\n",
    "            \n",
    "            # if there is only only child and its attribute is \"class\" then assign the child to temp_node\n",
    "            if (len(nodes) == 1) and nodes[0].attribute == 'class':\n",
    "                temp_node = nodes[0]\n",
    "            else:\n",
    "                # assign temp_node to prev_node to verify later whether the temp_node changes or not\n",
    "                # If it does not change will return the default prediction\n",
    "                prev_node = temp_node\n",
    "                # Iterate over all the child nodes\n",
    "                for node in nodes:\n",
    "                    # Check whether the data satisfies the node or not if it does assign it to temp_node\n",
    "                    if node.equals(f\"{node.attribute}={d_row[node.attribute]}\"):\n",
    "                        temp_node = node\n",
    "                # if temp_node does not change return the default prediction\n",
    "                if prev_node == temp_node:\n",
    "                    return self.default_pred\n",
    "        return temp_node.name\n",
    "    \n",
    "    # This function take each row one by one and pass it to the above function for prediction\n",
    "    def predict(self, X: pd.DataFrame) -> List[str]:\n",
    "        predictions = []\n",
    "        # Add your code\n",
    "        for ind in X.index.to_numpy():\n",
    "            predictions.append(self.predict_one(X.loc[ind]))\n",
    "            print(f\"{len(predictions)}/{len(X)} predictions completed.\")\n",
    "        return predictions\n",
    "            "
   ]
  },
  {
   "cell_type": "markdown",
   "id": "74ae76aa",
   "metadata": {},
   "source": [
    "### Tasks"
   ]
  },
  {
   "cell_type": "markdown",
   "id": "cc560edf",
   "metadata": {},
   "source": [
    "#### Entropy"
   ]
  },
  {
   "cell_type": "code",
   "execution_count": 13,
   "id": "e7e82f5d",
   "metadata": {},
   "outputs": [
    {
     "data": {
      "text/html": [
       "<div>\n",
       "<style scoped>\n",
       "    .dataframe tbody tr th:only-of-type {\n",
       "        vertical-align: middle;\n",
       "    }\n",
       "\n",
       "    .dataframe tbody tr th {\n",
       "        vertical-align: top;\n",
       "    }\n",
       "\n",
       "    .dataframe thead th {\n",
       "        text-align: right;\n",
       "    }\n",
       "</style>\n",
       "<table border=\"1\" class=\"dataframe\">\n",
       "  <thead>\n",
       "    <tr style=\"text-align: right;\">\n",
       "      <th></th>\n",
       "      <th>outlook</th>\n",
       "      <th>temp</th>\n",
       "      <th>humidity</th>\n",
       "      <th>windy</th>\n",
       "      <th>play</th>\n",
       "    </tr>\n",
       "  </thead>\n",
       "  <tbody>\n",
       "    <tr>\n",
       "      <th>0</th>\n",
       "      <td>sunny</td>\n",
       "      <td>hot</td>\n",
       "      <td>high</td>\n",
       "      <td>False</td>\n",
       "      <td>no</td>\n",
       "    </tr>\n",
       "    <tr>\n",
       "      <th>1</th>\n",
       "      <td>sunny</td>\n",
       "      <td>hot</td>\n",
       "      <td>high</td>\n",
       "      <td>True</td>\n",
       "      <td>no</td>\n",
       "    </tr>\n",
       "    <tr>\n",
       "      <th>2</th>\n",
       "      <td>overcast</td>\n",
       "      <td>hot</td>\n",
       "      <td>high</td>\n",
       "      <td>False</td>\n",
       "      <td>yes</td>\n",
       "    </tr>\n",
       "  </tbody>\n",
       "</table>\n",
       "</div>"
      ],
      "text/plain": [
       "    outlook temp humidity  windy play\n",
       "0     sunny  hot     high  False   no\n",
       "1     sunny  hot     high   True   no\n",
       "2  overcast  hot     high  False  yes"
      ]
     },
     "execution_count": 13,
     "metadata": {},
     "output_type": "execute_result"
    }
   ],
   "source": [
    "tdf = data.loc[0:2]\n",
    "tdf"
   ]
  },
  {
   "cell_type": "code",
   "execution_count": 14,
   "id": "49bf2f6a",
   "metadata": {},
   "outputs": [
    {
     "name": "stdout",
     "output_type": "stream",
     "text": [
      "{'no': 0.6666666666666666, 'yes': 0.3333333333333333}\n"
     ]
    }
   ],
   "source": [
    "# Task 1\n",
    "demo_tree = DecTree(tdf, \"play\")\n",
    "pmf = demo_tree.pmf_target(tdf)\n",
    "print(pmf)"
   ]
  },
  {
   "cell_type": "code",
   "execution_count": 17,
   "id": "c9681e5e",
   "metadata": {},
   "outputs": [
    {
     "name": "stdout",
     "output_type": "stream",
     "text": [
      "0.9182958340544896\n"
     ]
    }
   ],
   "source": [
    "# Task 2\n",
    "entropy = demo_tree.entropy(pmf)\n",
    "print(entropy)"
   ]
  },
  {
   "cell_type": "code",
   "execution_count": 18,
   "id": "6d9cb734",
   "metadata": {},
   "outputs": [
    {
     "name": "stdout",
     "output_type": "stream",
     "text": [
      "0.9182958340544896\n"
     ]
    }
   ],
   "source": [
    "# Task 3\n",
    "print(demo_tree.cal_entropy_df(tdf))"
   ]
  },
  {
   "cell_type": "code",
   "execution_count": 19,
   "id": "8d474dfe",
   "metadata": {},
   "outputs": [
    {
     "name": "stdout",
     "output_type": "stream",
     "text": [
      "0.2516291673878229\n"
     ]
    }
   ],
   "source": [
    "# Task 4\n",
    "print(demo_tree.info_gain_attribute(tdf,'windy'))"
   ]
  },
  {
   "cell_type": "code",
   "execution_count": 20,
   "id": "40fc42ab",
   "metadata": {},
   "outputs": [
    {
     "name": "stdout",
     "output_type": "stream",
     "text": [
      "outlook\n"
     ]
    }
   ],
   "source": [
    "# Task 5\n",
    "print(demo_tree.max_info_gain_attribute(tdf,['outlook','temp','humidity','windy']))"
   ]
  },
  {
   "cell_type": "markdown",
   "id": "2ba4b25a-ab1c-45f2-9dd0-da23eddf48a9",
   "metadata": {},
   "source": [
    "### Train Decision Tree "
   ]
  },
  {
   "cell_type": "code",
   "execution_count": 7,
   "id": "b42fe981-fdd4-4952-8aaa-31aa1d8cd0f9",
   "metadata": {},
   "outputs": [
    {
     "name": "stdout",
     "output_type": "stream",
     "text": [
      " start=start\n",
      "├──  outlook=sunny\n",
      "│   ├──  humidity=high\n",
      "│   │   └──  class=no\n",
      "│   └──  humidity=normal\n",
      "│       └──  class=yes\n",
      "├──  outlook=overcast\n",
      "│   └──  class=yes\n",
      "└──  outlook=rainy\n",
      "    ├──  windy=False\n",
      "    │   └──  class=yes\n",
      "    └──  windy=True\n",
      "        └──  class=no\n"
     ]
    }
   ],
   "source": [
    "dec_tree = DecTree(data, \"play\")\n",
    "\n",
    "dec_tree.generate_tree()\n",
    "dec_tree.print_tree()"
   ]
  },
  {
   "cell_type": "markdown",
   "id": "b4423fb7-a871-4e4b-9974-e0b9353358f3",
   "metadata": {},
   "source": [
    "### Perform Inference "
   ]
  },
  {
   "cell_type": "code",
   "execution_count": 8,
   "id": "6b9aa03c-bf36-475a-a3fb-7fb6d5d6cf5f",
   "metadata": {},
   "outputs": [
    {
     "name": "stdout",
     "output_type": "stream",
     "text": [
      "1/14 predictions completed.\n",
      "2/14 predictions completed.\n",
      "3/14 predictions completed.\n",
      "4/14 predictions completed.\n",
      "5/14 predictions completed.\n",
      "6/14 predictions completed.\n",
      "7/14 predictions completed.\n",
      "8/14 predictions completed.\n",
      "9/14 predictions completed.\n",
      "10/14 predictions completed.\n",
      "11/14 predictions completed.\n",
      "12/14 predictions completed.\n",
      "13/14 predictions completed.\n",
      "14/14 predictions completed.\n",
      "['no', 'no', 'yes', 'yes', 'yes', 'no', 'yes', 'no', 'yes', 'yes', 'yes', 'yes', 'yes', 'no']\n"
     ]
    }
   ],
   "source": [
    "predictions = dec_tree.predict(data)\n",
    "print(predictions)"
   ]
  },
  {
   "cell_type": "markdown",
   "id": "e18069e4-edd6-483b-ae87-eb90bc37993d",
   "metadata": {},
   "source": [
    "### Evaluate on the Cars Dataset "
   ]
  },
  {
   "cell_type": "code",
   "execution_count": 9,
   "id": "7b1e805f-c14c-4ae2-93dc-fb6098eca2fd",
   "metadata": {},
   "outputs": [
    {
     "data": {
      "text/html": [
       "<div>\n",
       "<style scoped>\n",
       "    .dataframe tbody tr th:only-of-type {\n",
       "        vertical-align: middle;\n",
       "    }\n",
       "\n",
       "    .dataframe tbody tr th {\n",
       "        vertical-align: top;\n",
       "    }\n",
       "\n",
       "    .dataframe thead th {\n",
       "        text-align: right;\n",
       "    }\n",
       "</style>\n",
       "<table border=\"1\" class=\"dataframe\">\n",
       "  <thead>\n",
       "    <tr style=\"text-align: right;\">\n",
       "      <th></th>\n",
       "      <th>buying_price</th>\n",
       "      <th>maintenance_cost</th>\n",
       "      <th>num_doors</th>\n",
       "      <th>num_persons</th>\n",
       "      <th>size_luggage</th>\n",
       "      <th>safety</th>\n",
       "      <th>decision</th>\n",
       "    </tr>\n",
       "  </thead>\n",
       "  <tbody>\n",
       "    <tr>\n",
       "      <th>0</th>\n",
       "      <td>vhigh</td>\n",
       "      <td>med</td>\n",
       "      <td>2</td>\n",
       "      <td>2</td>\n",
       "      <td>small</td>\n",
       "      <td>low</td>\n",
       "      <td>unacc</td>\n",
       "    </tr>\n",
       "    <tr>\n",
       "      <th>1</th>\n",
       "      <td>high</td>\n",
       "      <td>high</td>\n",
       "      <td>3</td>\n",
       "      <td>4</td>\n",
       "      <td>big</td>\n",
       "      <td>med</td>\n",
       "      <td>acc</td>\n",
       "    </tr>\n",
       "    <tr>\n",
       "      <th>2</th>\n",
       "      <td>low</td>\n",
       "      <td>med</td>\n",
       "      <td>4</td>\n",
       "      <td>2</td>\n",
       "      <td>big</td>\n",
       "      <td>low</td>\n",
       "      <td>unacc</td>\n",
       "    </tr>\n",
       "    <tr>\n",
       "      <th>3</th>\n",
       "      <td>vhigh</td>\n",
       "      <td>high</td>\n",
       "      <td>5more</td>\n",
       "      <td>4</td>\n",
       "      <td>small</td>\n",
       "      <td>low</td>\n",
       "      <td>unacc</td>\n",
       "    </tr>\n",
       "    <tr>\n",
       "      <th>4</th>\n",
       "      <td>med</td>\n",
       "      <td>med</td>\n",
       "      <td>4</td>\n",
       "      <td>2</td>\n",
       "      <td>med</td>\n",
       "      <td>high</td>\n",
       "      <td>unacc</td>\n",
       "    </tr>\n",
       "  </tbody>\n",
       "</table>\n",
       "</div>"
      ],
      "text/plain": [
       "  buying_price maintenance_cost num_doors num_persons size_luggage safety  \\\n",
       "0        vhigh              med         2           2        small    low   \n",
       "1         high             high         3           4          big    med   \n",
       "2          low              med         4           2          big    low   \n",
       "3        vhigh             high     5more           4        small    low   \n",
       "4          med              med         4           2          med   high   \n",
       "\n",
       "  decision  \n",
       "0    unacc  \n",
       "1      acc  \n",
       "2    unacc  \n",
       "3    unacc  \n",
       "4    unacc  "
      ]
     },
     "execution_count": 9,
     "metadata": {},
     "output_type": "execute_result"
    }
   ],
   "source": [
    "dt_train = pd.read_csv(\"cars_train.csv\")\n",
    "dt_test = pd.read_csv(\"cars_test.csv\")\n",
    "\n",
    "dt_test.head()"
   ]
  },
  {
   "cell_type": "code",
   "execution_count": 10,
   "id": "e5dfb19f-918a-401a-94fd-e1e1b436d4a2",
   "metadata": {},
   "outputs": [],
   "source": [
    "# Train\n",
    "dt = DecTree(dt_train, \"decision\")\n",
    "dt.generate_tree()"
   ]
  },
  {
   "cell_type": "code",
   "execution_count": 11,
   "id": "d7db678e-03b9-46b0-a373-dd97727abffb",
   "metadata": {},
   "outputs": [
    {
     "name": "stdout",
     "output_type": "stream",
     "text": [
      "1/100 predictions completed.\n",
      "2/100 predictions completed.\n",
      "3/100 predictions completed.\n",
      "4/100 predictions completed.\n",
      "5/100 predictions completed.\n",
      "6/100 predictions completed.\n",
      "7/100 predictions completed.\n",
      "8/100 predictions completed.\n",
      "9/100 predictions completed.\n",
      "10/100 predictions completed.\n",
      "11/100 predictions completed.\n",
      "12/100 predictions completed.\n",
      "13/100 predictions completed.\n",
      "14/100 predictions completed.\n",
      "15/100 predictions completed.\n",
      "16/100 predictions completed.\n",
      "17/100 predictions completed.\n",
      "18/100 predictions completed.\n",
      "19/100 predictions completed.\n",
      "20/100 predictions completed.\n",
      "21/100 predictions completed.\n",
      "22/100 predictions completed.\n",
      "23/100 predictions completed.\n",
      "24/100 predictions completed.\n",
      "25/100 predictions completed.\n",
      "26/100 predictions completed.\n",
      "27/100 predictions completed.\n",
      "28/100 predictions completed.\n",
      "29/100 predictions completed.\n",
      "30/100 predictions completed.\n",
      "31/100 predictions completed.\n",
      "32/100 predictions completed.\n",
      "33/100 predictions completed.\n",
      "34/100 predictions completed.\n",
      "35/100 predictions completed.\n",
      "36/100 predictions completed.\n",
      "37/100 predictions completed.\n",
      "38/100 predictions completed.\n",
      "39/100 predictions completed.\n",
      "40/100 predictions completed.\n",
      "41/100 predictions completed.\n",
      "42/100 predictions completed.\n",
      "43/100 predictions completed.\n",
      "44/100 predictions completed.\n",
      "45/100 predictions completed.\n",
      "46/100 predictions completed.\n",
      "47/100 predictions completed.\n",
      "48/100 predictions completed.\n",
      "49/100 predictions completed.\n",
      "50/100 predictions completed.\n",
      "51/100 predictions completed.\n",
      "52/100 predictions completed.\n",
      "53/100 predictions completed.\n",
      "54/100 predictions completed.\n",
      "55/100 predictions completed.\n",
      "56/100 predictions completed.\n",
      "57/100 predictions completed.\n",
      "58/100 predictions completed.\n",
      "59/100 predictions completed.\n",
      "60/100 predictions completed.\n",
      "61/100 predictions completed.\n",
      "62/100 predictions completed.\n",
      "63/100 predictions completed.\n",
      "64/100 predictions completed.\n",
      "65/100 predictions completed.\n",
      "66/100 predictions completed.\n",
      "67/100 predictions completed.\n",
      "68/100 predictions completed.\n",
      "69/100 predictions completed.\n",
      "70/100 predictions completed.\n",
      "71/100 predictions completed.\n",
      "72/100 predictions completed.\n",
      "73/100 predictions completed.\n",
      "74/100 predictions completed.\n",
      "75/100 predictions completed.\n",
      "76/100 predictions completed.\n",
      "77/100 predictions completed.\n",
      "78/100 predictions completed.\n",
      "79/100 predictions completed.\n",
      "80/100 predictions completed.\n",
      "81/100 predictions completed.\n",
      "82/100 predictions completed.\n",
      "83/100 predictions completed.\n",
      "84/100 predictions completed.\n",
      "85/100 predictions completed.\n",
      "86/100 predictions completed.\n",
      "87/100 predictions completed.\n",
      "88/100 predictions completed.\n",
      "89/100 predictions completed.\n",
      "90/100 predictions completed.\n",
      "91/100 predictions completed.\n",
      "92/100 predictions completed.\n",
      "93/100 predictions completed.\n",
      "94/100 predictions completed.\n",
      "95/100 predictions completed.\n",
      "96/100 predictions completed.\n",
      "97/100 predictions completed.\n",
      "98/100 predictions completed.\n",
      "99/100 predictions completed.\n",
      "100/100 predictions completed.\n"
     ]
    }
   ],
   "source": [
    "# Test\n",
    "dt_test_x = dt_test.drop(columns=\"decision\")\n",
    "dt_test_y = dt_test[\"decision\"].to_list()\n",
    "\n",
    "preds = dt.predict(dt_test_x)"
   ]
  },
  {
   "cell_type": "code",
   "execution_count": 12,
   "id": "3cf3e0cf-cc8f-48cc-87d3-b19eec7c8704",
   "metadata": {},
   "outputs": [
    {
     "name": "stdout",
     "output_type": "stream",
     "text": [
      "Accuracy: 0.93\n",
      "[[17  7]\n",
      " [ 0 76]]\n"
     ]
    }
   ],
   "source": [
    "# Evaluate results\n",
    "from sklearn.metrics import accuracy_score, confusion_matrix\n",
    "\n",
    "acc = accuracy_score(dt_test_y, preds)\n",
    "cm = confusion_matrix(dt_test_y, preds)\n",
    "print(f\"Accuracy: {acc}\")\n",
    "print(cm)"
   ]
  },
  {
   "cell_type": "code",
   "execution_count": 21,
   "id": "69101af4-feff-4888-9479-a6ee62bb4343",
   "metadata": {},
   "outputs": [
    {
     "data": {
      "text/plain": [
       "<AxesSubplot:>"
      ]
     },
     "execution_count": 21,
     "metadata": {},
     "output_type": "execute_result"
    },
    {
     "data": {
      "image/png": "[encoded data removed]",
      "text/plain": [
       "<Figure size 432x288 with 2 Axes>"
      ]
     },
     "metadata": {
      "needs_background": "light"
     },
     "output_type": "display_data"
    }
   ],
   "source": [
    "import seaborn as sns\n",
    "sns.heatmap(cm)"
   ]
  }
 ],
 "metadata": {
  "kernelspec": {
   "display_name": "Python 3.10.6 ('310_default')",
   "language": "python",
   "name": "python3"
  },
  "language_info": {
   "codemirror_mode": {
    "name": "ipython",
    "version": 3
   },
   "file_extension": ".py",
   "mimetype": "text/x-python",
   "name": "python",
   "nbconvert_exporter": "python",
   "pygments_lexer": "ipython3",
   "version": "3.10.6"
  },
  "vscode": {
   "interpreter": {
    "hash": "5d1e5415e4709ab72d4f13ab1c40055a30ddcaa9a7af539e0f44a9c51bba5cfc"
   }
  }
 },
 "nbformat": 4,
 "nbformat_minor": 5
}
